{
 "cells": [
  {
   "cell_type": "markdown",
   "metadata": {},
   "source": [
    "**What is Parkinson’s Disease?**\n",
    "\n",
    "Parkinson’s disease is a progressive disorder of the central nervous system affecting movement and inducing tremors and stiffness. It has 5 stages to it and affects more than 1 million individuals every year in India. This is chronic and has no cure yet. It is a neurodegenerative disorder affecting dopamine-producing neurons in the brain. Dataset is found here: https://archive.ics.uci.edu/ml/machine-learning-databases/parkinsons/\n",
    "\n",
    "There are two datasets within this. The first is in the root folder (`parkinsons.data` which is included here too) and can be used to detect Parkinsons. The second is within the `telemonitoring/` directory and contains UDPR scores for us to predict.\n",
    "\n",
    "**What is XGBoost?**\n",
    "\n",
    "XGBoost is a new Machine Learning algorithm designed with speed and performance in mind. XGBoost stands for eXtreme Gradient Boosting and is based on decision trees. In this project, we will import the XGBClassifier from the xgboost library; this is an implementation of the scikit-learn API for XGBoost classification.\n",
    "\n",
    "**Detecting Parkinson’s Disease with XGBoost – Objective**\n",
    "\n",
    "To build a model to accurately detect the presence of Parkinson’s disease in an individual.\n",
    "\n",
    "We will build a model using an XGBClassifier. We’ll load the data, get the features and labels, scale the features, then split the dataset, build an XGBClassifier, and then calculate the accuracy of our model."
   ]
  },
  {
   "cell_type": "code",
   "execution_count": 24,
   "metadata": {},
   "outputs": [],
   "source": [
    "import numpy as np\n",
    "import pandas as pd\n",
    "import matplotlib.pyplot as plt\n",
    "import os, sys\n",
    "from sklearn.preprocessing import MinMaxScaler\n",
    "from xgboost import XGBClassifier\n",
    "from sklearn.model_selection import train_test_split\n",
    "from sklearn.metrics import accuracy_score"
   ]
  },
  {
   "cell_type": "code",
   "execution_count": 2,
   "metadata": {},
   "outputs": [
    {
     "data": {
      "text/html": [
       "<div>\n",
       "<style scoped>\n",
       "    .dataframe tbody tr th:only-of-type {\n",
       "        vertical-align: middle;\n",
       "    }\n",
       "\n",
       "    .dataframe tbody tr th {\n",
       "        vertical-align: top;\n",
       "    }\n",
       "\n",
       "    .dataframe thead th {\n",
       "        text-align: right;\n",
       "    }\n",
       "</style>\n",
       "<table border=\"1\" class=\"dataframe\">\n",
       "  <thead>\n",
       "    <tr style=\"text-align: right;\">\n",
       "      <th></th>\n",
       "      <th>name</th>\n",
       "      <th>MDVP:Fo(Hz)</th>\n",
       "      <th>MDVP:Fhi(Hz)</th>\n",
       "      <th>MDVP:Flo(Hz)</th>\n",
       "      <th>MDVP:Jitter(%)</th>\n",
       "      <th>MDVP:Jitter(Abs)</th>\n",
       "      <th>MDVP:RAP</th>\n",
       "      <th>MDVP:PPQ</th>\n",
       "      <th>Jitter:DDP</th>\n",
       "      <th>MDVP:Shimmer</th>\n",
       "      <th>...</th>\n",
       "      <th>Shimmer:DDA</th>\n",
       "      <th>NHR</th>\n",
       "      <th>HNR</th>\n",
       "      <th>status</th>\n",
       "      <th>RPDE</th>\n",
       "      <th>DFA</th>\n",
       "      <th>spread1</th>\n",
       "      <th>spread2</th>\n",
       "      <th>D2</th>\n",
       "      <th>PPE</th>\n",
       "    </tr>\n",
       "  </thead>\n",
       "  <tbody>\n",
       "    <tr>\n",
       "      <th>0</th>\n",
       "      <td>phon_R01_S01_1</td>\n",
       "      <td>119.992</td>\n",
       "      <td>157.302</td>\n",
       "      <td>74.997</td>\n",
       "      <td>0.00784</td>\n",
       "      <td>0.00007</td>\n",
       "      <td>0.00370</td>\n",
       "      <td>0.00554</td>\n",
       "      <td>0.01109</td>\n",
       "      <td>0.04374</td>\n",
       "      <td>...</td>\n",
       "      <td>0.06545</td>\n",
       "      <td>0.02211</td>\n",
       "      <td>21.033</td>\n",
       "      <td>1</td>\n",
       "      <td>0.414783</td>\n",
       "      <td>0.815285</td>\n",
       "      <td>-4.813031</td>\n",
       "      <td>0.266482</td>\n",
       "      <td>2.301442</td>\n",
       "      <td>0.284654</td>\n",
       "    </tr>\n",
       "    <tr>\n",
       "      <th>1</th>\n",
       "      <td>phon_R01_S01_2</td>\n",
       "      <td>122.400</td>\n",
       "      <td>148.650</td>\n",
       "      <td>113.819</td>\n",
       "      <td>0.00968</td>\n",
       "      <td>0.00008</td>\n",
       "      <td>0.00465</td>\n",
       "      <td>0.00696</td>\n",
       "      <td>0.01394</td>\n",
       "      <td>0.06134</td>\n",
       "      <td>...</td>\n",
       "      <td>0.09403</td>\n",
       "      <td>0.01929</td>\n",
       "      <td>19.085</td>\n",
       "      <td>1</td>\n",
       "      <td>0.458359</td>\n",
       "      <td>0.819521</td>\n",
       "      <td>-4.075192</td>\n",
       "      <td>0.335590</td>\n",
       "      <td>2.486855</td>\n",
       "      <td>0.368674</td>\n",
       "    </tr>\n",
       "    <tr>\n",
       "      <th>2</th>\n",
       "      <td>phon_R01_S01_3</td>\n",
       "      <td>116.682</td>\n",
       "      <td>131.111</td>\n",
       "      <td>111.555</td>\n",
       "      <td>0.01050</td>\n",
       "      <td>0.00009</td>\n",
       "      <td>0.00544</td>\n",
       "      <td>0.00781</td>\n",
       "      <td>0.01633</td>\n",
       "      <td>0.05233</td>\n",
       "      <td>...</td>\n",
       "      <td>0.08270</td>\n",
       "      <td>0.01309</td>\n",
       "      <td>20.651</td>\n",
       "      <td>1</td>\n",
       "      <td>0.429895</td>\n",
       "      <td>0.825288</td>\n",
       "      <td>-4.443179</td>\n",
       "      <td>0.311173</td>\n",
       "      <td>2.342259</td>\n",
       "      <td>0.332634</td>\n",
       "    </tr>\n",
       "    <tr>\n",
       "      <th>3</th>\n",
       "      <td>phon_R01_S01_4</td>\n",
       "      <td>116.676</td>\n",
       "      <td>137.871</td>\n",
       "      <td>111.366</td>\n",
       "      <td>0.00997</td>\n",
       "      <td>0.00009</td>\n",
       "      <td>0.00502</td>\n",
       "      <td>0.00698</td>\n",
       "      <td>0.01505</td>\n",
       "      <td>0.05492</td>\n",
       "      <td>...</td>\n",
       "      <td>0.08771</td>\n",
       "      <td>0.01353</td>\n",
       "      <td>20.644</td>\n",
       "      <td>1</td>\n",
       "      <td>0.434969</td>\n",
       "      <td>0.819235</td>\n",
       "      <td>-4.117501</td>\n",
       "      <td>0.334147</td>\n",
       "      <td>2.405554</td>\n",
       "      <td>0.368975</td>\n",
       "    </tr>\n",
       "    <tr>\n",
       "      <th>4</th>\n",
       "      <td>phon_R01_S01_5</td>\n",
       "      <td>116.014</td>\n",
       "      <td>141.781</td>\n",
       "      <td>110.655</td>\n",
       "      <td>0.01284</td>\n",
       "      <td>0.00011</td>\n",
       "      <td>0.00655</td>\n",
       "      <td>0.00908</td>\n",
       "      <td>0.01966</td>\n",
       "      <td>0.06425</td>\n",
       "      <td>...</td>\n",
       "      <td>0.10470</td>\n",
       "      <td>0.01767</td>\n",
       "      <td>19.649</td>\n",
       "      <td>1</td>\n",
       "      <td>0.417356</td>\n",
       "      <td>0.823484</td>\n",
       "      <td>-3.747787</td>\n",
       "      <td>0.234513</td>\n",
       "      <td>2.332180</td>\n",
       "      <td>0.410335</td>\n",
       "    </tr>\n",
       "  </tbody>\n",
       "</table>\n",
       "<p>5 rows × 24 columns</p>\n",
       "</div>"
      ],
      "text/plain": [
       "             name  MDVP:Fo(Hz)  MDVP:Fhi(Hz)  MDVP:Flo(Hz)  MDVP:Jitter(%)  \\\n",
       "0  phon_R01_S01_1      119.992       157.302        74.997         0.00784   \n",
       "1  phon_R01_S01_2      122.400       148.650       113.819         0.00968   \n",
       "2  phon_R01_S01_3      116.682       131.111       111.555         0.01050   \n",
       "3  phon_R01_S01_4      116.676       137.871       111.366         0.00997   \n",
       "4  phon_R01_S01_5      116.014       141.781       110.655         0.01284   \n",
       "\n",
       "   MDVP:Jitter(Abs)  MDVP:RAP  MDVP:PPQ  Jitter:DDP  MDVP:Shimmer  ...  \\\n",
       "0           0.00007   0.00370   0.00554     0.01109       0.04374  ...   \n",
       "1           0.00008   0.00465   0.00696     0.01394       0.06134  ...   \n",
       "2           0.00009   0.00544   0.00781     0.01633       0.05233  ...   \n",
       "3           0.00009   0.00502   0.00698     0.01505       0.05492  ...   \n",
       "4           0.00011   0.00655   0.00908     0.01966       0.06425  ...   \n",
       "\n",
       "   Shimmer:DDA      NHR     HNR  status      RPDE       DFA   spread1  \\\n",
       "0      0.06545  0.02211  21.033       1  0.414783  0.815285 -4.813031   \n",
       "1      0.09403  0.01929  19.085       1  0.458359  0.819521 -4.075192   \n",
       "2      0.08270  0.01309  20.651       1  0.429895  0.825288 -4.443179   \n",
       "3      0.08771  0.01353  20.644       1  0.434969  0.819235 -4.117501   \n",
       "4      0.10470  0.01767  19.649       1  0.417356  0.823484 -3.747787   \n",
       "\n",
       "    spread2        D2       PPE  \n",
       "0  0.266482  2.301442  0.284654  \n",
       "1  0.335590  2.486855  0.368674  \n",
       "2  0.311173  2.342259  0.332634  \n",
       "3  0.334147  2.405554  0.368975  \n",
       "4  0.234513  2.332180  0.410335  \n",
       "\n",
       "[5 rows x 24 columns]"
      ]
     },
     "execution_count": 2,
     "metadata": {},
     "output_type": "execute_result"
    }
   ],
   "source": [
    "df=pd.read_csv('parkinsons.data')\n",
    "df.head()"
   ]
  },
  {
   "cell_type": "markdown",
   "metadata": {},
   "source": [
    "Get the features and labels from the DataFrame (dataset). The features are all the columns except ‘status’, and the labels are those in the ‘status’ column."
   ]
  },
  {
   "cell_type": "code",
   "execution_count": 3,
   "metadata": {},
   "outputs": [],
   "source": [
    "features=df.loc[:,df.columns!='status'].values[:,1:]\n",
    "labels=df.loc[:,'status'].values"
   ]
  },
  {
   "cell_type": "markdown",
   "metadata": {},
   "source": [
    "The ‘status’ column has values 0 and 1 as labels; let’s get the counts of these labels for both- 0 and 1."
   ]
  },
  {
   "cell_type": "code",
   "execution_count": 5,
   "metadata": {},
   "outputs": [
    {
     "name": "stdout",
     "output_type": "stream",
     "text": [
      "147 48\n"
     ]
    }
   ],
   "source": [
    "print(labels[labels==1].shape[0], labels[labels==0].shape[0])"
   ]
  },
  {
   "cell_type": "markdown",
   "metadata": {},
   "source": [
    "We have 147 ones and 48 zeros in the status column in our dataset. We have about triple the number of observations for one label as the other, and not many total datapoints\n",
    "\n",
    "Initialize a MinMaxScaler and scale the features to between -1 and 1 to normalize them. The MinMaxScaler transforms features by scaling them to a given range. The fit_transform() method fits to the data and then transforms it. We don’t need to scale the labels."
   ]
  },
  {
   "cell_type": "code",
   "execution_count": 4,
   "metadata": {},
   "outputs": [],
   "source": [
    "scaler=MinMaxScaler((-1,1))\n",
    "x=scaler.fit_transform(features)\n",
    "y=labels"
   ]
  },
  {
   "cell_type": "markdown",
   "metadata": {},
   "source": [
    "Now, split the dataset into training and testing sets keeping 20% of the data for testing."
   ]
  },
  {
   "cell_type": "code",
   "execution_count": 5,
   "metadata": {},
   "outputs": [],
   "source": [
    "x_train,x_test,y_train,y_test=train_test_split(x, y, test_size=0.2, random_state=7)"
   ]
  },
  {
   "cell_type": "markdown",
   "metadata": {},
   "source": [
    "Initialize an XGBClassifier and train the model. This classifies using eXtreme Gradient Boosting- using gradient boosting algorithms for modern data science problems. It falls under the category of Ensemble Learning in ML, where we train and predict using many models to produce one superior output."
   ]
  },
  {
   "cell_type": "code",
   "execution_count": 6,
   "metadata": {},
   "outputs": [
    {
     "name": "stdout",
     "output_type": "stream",
     "text": [
      "[15:55:31] WARNING: /Users/travis/build/dmlc/xgboost/src/learner.cc:1061: Starting in XGBoost 1.3.0, the default evaluation metric used with the objective 'binary:logistic' was changed from 'error' to 'logloss'. Explicitly set eval_metric if you'd like to restore the old behavior.\n"
     ]
    },
    {
     "name": "stderr",
     "output_type": "stream",
     "text": [
      "/Users/anjalichauhan/opt/anaconda3/lib/python3.8/site-packages/xgboost/sklearn.py:888: UserWarning: The use of label encoder in XGBClassifier is deprecated and will be removed in a future release. To remove this warning, do the following: 1) Pass option use_label_encoder=False when constructing XGBClassifier object; and 2) Encode your labels (y) as integers starting with 0, i.e. 0, 1, 2, ..., [num_class - 1].\n",
      "  warnings.warn(label_encoder_deprecation_msg, UserWarning)\n"
     ]
    },
    {
     "data": {
      "text/plain": [
       "XGBClassifier(base_score=0.5, booster='gbtree', colsample_bylevel=1,\n",
       "              colsample_bynode=1, colsample_bytree=1, gamma=0, gpu_id=-1,\n",
       "              importance_type='gain', interaction_constraints='',\n",
       "              learning_rate=0.300000012, max_delta_step=0, max_depth=6,\n",
       "              min_child_weight=1, missing=nan, monotone_constraints='()',\n",
       "              n_estimators=100, n_jobs=4, num_parallel_tree=1, random_state=0,\n",
       "              reg_alpha=0, reg_lambda=1, scale_pos_weight=1, subsample=1,\n",
       "              tree_method='exact', validate_parameters=1, verbosity=None)"
      ]
     },
     "execution_count": 6,
     "metadata": {},
     "output_type": "execute_result"
    }
   ],
   "source": [
    "model=XGBClassifier()\n",
    "model.fit(x_train,y_train)"
   ]
  },
  {
   "cell_type": "markdown",
   "metadata": {},
   "source": [
    "Finally, generate y_pred (predicted values for x_test) and calculate the accuracy for the model. Print it out."
   ]
  },
  {
   "cell_type": "code",
   "execution_count": 10,
   "metadata": {},
   "outputs": [
    {
     "name": "stdout",
     "output_type": "stream",
     "text": [
      "94.87179487179486\n"
     ]
    }
   ],
   "source": [
    "y_pred=model.predict(x_test)\n",
    "print(accuracy_score(y_test, y_pred)*100) # Test set accuracy"
   ]
  },
  {
   "cell_type": "code",
   "execution_count": 11,
   "metadata": {},
   "outputs": [
    {
     "name": "stdout",
     "output_type": "stream",
     "text": [
      "0.9897435897435898\n"
     ]
    }
   ],
   "source": [
    "y_hat = [round(yhat) for yhat in model.predict(x)]\n",
    "print(accuracy_score(y, y_hat)) # Full set accuracy"
   ]
  },
  {
   "cell_type": "markdown",
   "metadata": {},
   "source": [
    "Without any tuning we were able to get $94.85\\%$ accuracy."
   ]
  },
  {
   "cell_type": "markdown",
   "metadata": {},
   "source": [
    "This is already amazing since the original paper from 2007 cites classification accuracy of $91.8 \\pm 2.0\\%$, and other papers from 2016 cite accuracies of $96.4\\%$ (SVM) and $97\\%$ with tuning (Boosted LogReg); with some tuning our model could far exceed state-of-the-art methods!"
   ]
  },
  {
   "cell_type": "markdown",
   "metadata": {},
   "source": [
    "Parkinsons detection is likely best done with an XGBoost since outputs are 0 or 1 and it seems mostly linear.\n",
    "\n",
    "The UDPR is very hard to fine tune with XGBoost. With an NN in Keras, we can fit much better. There are still some very bad apples in our data/predictions but the performance is overall/on average much better."
   ]
  },
  {
   "cell_type": "code",
   "execution_count": 13,
   "metadata": {},
   "outputs": [
    {
     "data": {
      "text/html": [
       "<div>\n",
       "<style scoped>\n",
       "    .dataframe tbody tr th:only-of-type {\n",
       "        vertical-align: middle;\n",
       "    }\n",
       "\n",
       "    .dataframe tbody tr th {\n",
       "        vertical-align: top;\n",
       "    }\n",
       "\n",
       "    .dataframe thead th {\n",
       "        text-align: right;\n",
       "    }\n",
       "</style>\n",
       "<table border=\"1\" class=\"dataframe\">\n",
       "  <thead>\n",
       "    <tr style=\"text-align: right;\">\n",
       "      <th></th>\n",
       "      <th>subject#</th>\n",
       "      <th>age</th>\n",
       "      <th>sex</th>\n",
       "      <th>test_time</th>\n",
       "      <th>motor_UPDRS</th>\n",
       "      <th>total_UPDRS</th>\n",
       "      <th>Jitter(%)</th>\n",
       "      <th>Jitter(Abs)</th>\n",
       "      <th>Jitter:RAP</th>\n",
       "      <th>Jitter:PPQ5</th>\n",
       "      <th>...</th>\n",
       "      <th>Shimmer(dB)</th>\n",
       "      <th>Shimmer:APQ3</th>\n",
       "      <th>Shimmer:APQ5</th>\n",
       "      <th>Shimmer:APQ11</th>\n",
       "      <th>Shimmer:DDA</th>\n",
       "      <th>NHR</th>\n",
       "      <th>HNR</th>\n",
       "      <th>RPDE</th>\n",
       "      <th>DFA</th>\n",
       "      <th>PPE</th>\n",
       "    </tr>\n",
       "  </thead>\n",
       "  <tbody>\n",
       "    <tr>\n",
       "      <th>0</th>\n",
       "      <td>1</td>\n",
       "      <td>72</td>\n",
       "      <td>0</td>\n",
       "      <td>5.6431</td>\n",
       "      <td>28.199</td>\n",
       "      <td>34.398</td>\n",
       "      <td>0.00662</td>\n",
       "      <td>0.000034</td>\n",
       "      <td>0.00401</td>\n",
       "      <td>0.00317</td>\n",
       "      <td>...</td>\n",
       "      <td>0.230</td>\n",
       "      <td>0.01438</td>\n",
       "      <td>0.01309</td>\n",
       "      <td>0.01662</td>\n",
       "      <td>0.04314</td>\n",
       "      <td>0.014290</td>\n",
       "      <td>21.640</td>\n",
       "      <td>0.41888</td>\n",
       "      <td>0.54842</td>\n",
       "      <td>0.16006</td>\n",
       "    </tr>\n",
       "    <tr>\n",
       "      <th>1</th>\n",
       "      <td>1</td>\n",
       "      <td>72</td>\n",
       "      <td>0</td>\n",
       "      <td>12.6660</td>\n",
       "      <td>28.447</td>\n",
       "      <td>34.894</td>\n",
       "      <td>0.00300</td>\n",
       "      <td>0.000017</td>\n",
       "      <td>0.00132</td>\n",
       "      <td>0.00150</td>\n",
       "      <td>...</td>\n",
       "      <td>0.179</td>\n",
       "      <td>0.00994</td>\n",
       "      <td>0.01072</td>\n",
       "      <td>0.01689</td>\n",
       "      <td>0.02982</td>\n",
       "      <td>0.011112</td>\n",
       "      <td>27.183</td>\n",
       "      <td>0.43493</td>\n",
       "      <td>0.56477</td>\n",
       "      <td>0.10810</td>\n",
       "    </tr>\n",
       "    <tr>\n",
       "      <th>2</th>\n",
       "      <td>1</td>\n",
       "      <td>72</td>\n",
       "      <td>0</td>\n",
       "      <td>19.6810</td>\n",
       "      <td>28.695</td>\n",
       "      <td>35.389</td>\n",
       "      <td>0.00481</td>\n",
       "      <td>0.000025</td>\n",
       "      <td>0.00205</td>\n",
       "      <td>0.00208</td>\n",
       "      <td>...</td>\n",
       "      <td>0.181</td>\n",
       "      <td>0.00734</td>\n",
       "      <td>0.00844</td>\n",
       "      <td>0.01458</td>\n",
       "      <td>0.02202</td>\n",
       "      <td>0.020220</td>\n",
       "      <td>23.047</td>\n",
       "      <td>0.46222</td>\n",
       "      <td>0.54405</td>\n",
       "      <td>0.21014</td>\n",
       "    </tr>\n",
       "    <tr>\n",
       "      <th>3</th>\n",
       "      <td>1</td>\n",
       "      <td>72</td>\n",
       "      <td>0</td>\n",
       "      <td>25.6470</td>\n",
       "      <td>28.905</td>\n",
       "      <td>35.810</td>\n",
       "      <td>0.00528</td>\n",
       "      <td>0.000027</td>\n",
       "      <td>0.00191</td>\n",
       "      <td>0.00264</td>\n",
       "      <td>...</td>\n",
       "      <td>0.327</td>\n",
       "      <td>0.01106</td>\n",
       "      <td>0.01265</td>\n",
       "      <td>0.01963</td>\n",
       "      <td>0.03317</td>\n",
       "      <td>0.027837</td>\n",
       "      <td>24.445</td>\n",
       "      <td>0.48730</td>\n",
       "      <td>0.57794</td>\n",
       "      <td>0.33277</td>\n",
       "    </tr>\n",
       "    <tr>\n",
       "      <th>4</th>\n",
       "      <td>1</td>\n",
       "      <td>72</td>\n",
       "      <td>0</td>\n",
       "      <td>33.6420</td>\n",
       "      <td>29.187</td>\n",
       "      <td>36.375</td>\n",
       "      <td>0.00335</td>\n",
       "      <td>0.000020</td>\n",
       "      <td>0.00093</td>\n",
       "      <td>0.00130</td>\n",
       "      <td>...</td>\n",
       "      <td>0.176</td>\n",
       "      <td>0.00679</td>\n",
       "      <td>0.00929</td>\n",
       "      <td>0.01819</td>\n",
       "      <td>0.02036</td>\n",
       "      <td>0.011625</td>\n",
       "      <td>26.126</td>\n",
       "      <td>0.47188</td>\n",
       "      <td>0.56122</td>\n",
       "      <td>0.19361</td>\n",
       "    </tr>\n",
       "  </tbody>\n",
       "</table>\n",
       "<p>5 rows × 22 columns</p>\n",
       "</div>"
      ],
      "text/plain": [
       "   subject#  age  sex  test_time  motor_UPDRS  total_UPDRS  Jitter(%)  \\\n",
       "0         1   72    0     5.6431       28.199       34.398    0.00662   \n",
       "1         1   72    0    12.6660       28.447       34.894    0.00300   \n",
       "2         1   72    0    19.6810       28.695       35.389    0.00481   \n",
       "3         1   72    0    25.6470       28.905       35.810    0.00528   \n",
       "4         1   72    0    33.6420       29.187       36.375    0.00335   \n",
       "\n",
       "   Jitter(Abs)  Jitter:RAP  Jitter:PPQ5  ...  Shimmer(dB)  Shimmer:APQ3  \\\n",
       "0     0.000034     0.00401      0.00317  ...        0.230       0.01438   \n",
       "1     0.000017     0.00132      0.00150  ...        0.179       0.00994   \n",
       "2     0.000025     0.00205      0.00208  ...        0.181       0.00734   \n",
       "3     0.000027     0.00191      0.00264  ...        0.327       0.01106   \n",
       "4     0.000020     0.00093      0.00130  ...        0.176       0.00679   \n",
       "\n",
       "   Shimmer:APQ5  Shimmer:APQ11  Shimmer:DDA       NHR     HNR     RPDE  \\\n",
       "0       0.01309        0.01662      0.04314  0.014290  21.640  0.41888   \n",
       "1       0.01072        0.01689      0.02982  0.011112  27.183  0.43493   \n",
       "2       0.00844        0.01458      0.02202  0.020220  23.047  0.46222   \n",
       "3       0.01265        0.01963      0.03317  0.027837  24.445  0.48730   \n",
       "4       0.00929        0.01819      0.02036  0.011625  26.126  0.47188   \n",
       "\n",
       "       DFA      PPE  \n",
       "0  0.54842  0.16006  \n",
       "1  0.56477  0.10810  \n",
       "2  0.54405  0.21014  \n",
       "3  0.57794  0.33277  \n",
       "4  0.56122  0.19361  \n",
       "\n",
       "[5 rows x 22 columns]"
      ]
     },
     "execution_count": 13,
     "metadata": {},
     "output_type": "execute_result"
    }
   ],
   "source": [
    "udpr_df = pd.read_csv('parkinsons_updrs.data')\n",
    "udpr_df.head()"
   ]
  },
  {
   "cell_type": "markdown",
   "metadata": {},
   "source": [
    "This data has multioutput so we'll have to dress out features and labels accordingly.\n",
    "\n",
    "We're trying to predict motor and total UPDRS"
   ]
  },
  {
   "cell_type": "code",
   "execution_count": 14,
   "metadata": {},
   "outputs": [],
   "source": [
    "features = udpr_df.loc[:, (udpr_df.columns != 'motor_UPDRS') & (udpr_df.columns != 'total_UPDRS')].values[:, 1:]\n",
    "labels = udpr_df.loc[:, (udpr_df.columns == 'motor_UPDRS') | (udpr_df.columns == 'total_UPDRS')].values"
   ]
  },
  {
   "cell_type": "markdown",
   "metadata": {},
   "source": [
    "We scale both the features and labels since the labels are continuous this time"
   ]
  },
  {
   "cell_type": "code",
   "execution_count": 16,
   "metadata": {},
   "outputs": [],
   "source": [
    "X = scaler.fit_transform(features)\n",
    "Y = scaler.fit_transform(labels)"
   ]
  },
  {
   "cell_type": "code",
   "execution_count": 17,
   "metadata": {},
   "outputs": [],
   "source": [
    "X_train, X_test, Y_train, Y_test = train_test_split(X, Y, test_size=0.1, random_state=7)"
   ]
  },
  {
   "cell_type": "markdown",
   "metadata": {},
   "source": [
    "This data may be better suited to a NN so let's use Keras this time."
   ]
  },
  {
   "cell_type": "code",
   "execution_count": 18,
   "metadata": {},
   "outputs": [],
   "source": [
    "from keras.models import Sequential\n",
    "from keras.layers import Dense, LSTM"
   ]
  },
  {
   "cell_type": "markdown",
   "metadata": {},
   "source": [
    "We can make a simple Sequential model. We'll use tanh as our activation, sgd as the optimizer, and mse as our loss since this is a continuous problem. We can also afford to validate with $25\\%$ of our data. Set batch size to 1 because we can handle it!"
   ]
  },
  {
   "cell_type": "code",
   "execution_count": 19,
   "metadata": {},
   "outputs": [
    {
     "name": "stdout",
     "output_type": "stream",
     "text": [
      "Epoch 1/5\n",
      "3965/3965 [==============================] - 5s 1ms/step - loss: 0.2122 - val_loss: 0.1851\n",
      "Epoch 2/5\n",
      "3965/3965 [==============================] - 4s 974us/step - loss: 0.1878 - val_loss: 0.1742\n",
      "Epoch 3/5\n",
      "3965/3965 [==============================] - 5s 1ms/step - loss: 0.1737 - val_loss: 0.1679\n",
      "Epoch 4/5\n",
      "3965/3965 [==============================] - 5s 1ms/step - loss: 0.1633 - val_loss: 0.1497\n",
      "Epoch 5/5\n",
      "3965/3965 [==============================] - 6s 1ms/step - loss: 0.1505 - val_loss: 0.1463\n"
     ]
    },
    {
     "data": {
      "text/plain": [
       "<tensorflow.python.keras.callbacks.History at 0x7fe1a1e68b50>"
      ]
     },
     "execution_count": 19,
     "metadata": {},
     "output_type": "execute_result"
    }
   ],
   "source": [
    "u_model = Sequential()\n",
    "u_model.add(Dense(32, input_shape=(X.shape[1],)))\n",
    "u_model.add(Dense(16, activation='tanh'))\n",
    "u_model.add(Dense(8, activation='tanh'))\n",
    "u_model.add(Dense(72, activation='tanh'))\n",
    "u_model.add(Dense(Y.shape[1], activation='tanh'))\n",
    "u_model.compile(optimizer='sgd', loss='mean_squared_error')\n",
    "u_model.fit(X_train, Y_train, batch_size=1, epochs=5, validation_split=0.25, shuffle=True)"
   ]
  },
  {
   "cell_type": "markdown",
   "metadata": {},
   "source": [
    "We can see it's training just fine. Let's train to 20 total epochs (15 more) and see if it levels off."
   ]
  },
  {
   "cell_type": "code",
   "execution_count": 20,
   "metadata": {},
   "outputs": [
    {
     "name": "stdout",
     "output_type": "stream",
     "text": [
      "Epoch 1/15\n",
      "3965/3965 [==============================] - 5s 1ms/step - loss: 0.1424 - val_loss: 0.1320\n",
      "Epoch 2/15\n",
      "3965/3965 [==============================] - 5s 1ms/step - loss: 0.1366 - val_loss: 0.1268\n",
      "Epoch 3/15\n",
      "3965/3965 [==============================] - 6s 1ms/step - loss: 0.1318 - val_loss: 0.1310\n",
      "Epoch 4/15\n",
      "3965/3965 [==============================] - 5s 1ms/step - loss: 0.1264 - val_loss: 0.1295\n",
      "Epoch 5/15\n",
      "3965/3965 [==============================] - 6s 1ms/step - loss: 0.1207 - val_loss: 0.1190\n",
      "Epoch 6/15\n",
      "3965/3965 [==============================] - 6s 2ms/step - loss: 0.1185 - val_loss: 0.1125\n",
      "Epoch 7/15\n",
      "3965/3965 [==============================] - 6s 2ms/step - loss: 0.1151 - val_loss: 0.1183\n",
      "Epoch 8/15\n",
      "3965/3965 [==============================] - 7s 2ms/step - loss: 0.1131 - val_loss: 0.1269\n",
      "Epoch 9/15\n",
      "3965/3965 [==============================] - 7s 2ms/step - loss: 0.1120 - val_loss: 0.1079\n",
      "Epoch 10/15\n",
      "3965/3965 [==============================] - 7s 2ms/step - loss: 0.1083 - val_loss: 0.1220\n",
      "Epoch 11/15\n",
      "3965/3965 [==============================] - 6s 1ms/step - loss: 0.1089 - val_loss: 0.1149\n",
      "Epoch 12/15\n",
      "3965/3965 [==============================] - 5s 1ms/step - loss: 0.1066 - val_loss: 0.1035\n",
      "Epoch 13/15\n",
      "3965/3965 [==============================] - 5s 1ms/step - loss: 0.1036 - val_loss: 0.1052\n",
      "Epoch 14/15\n",
      "3965/3965 [==============================] - 6s 2ms/step - loss: 0.1027 - val_loss: 0.1177\n",
      "Epoch 15/15\n",
      "3965/3965 [==============================] - 5s 1ms/step - loss: 0.1003 - val_loss: 0.1028\n"
     ]
    },
    {
     "data": {
      "text/plain": [
       "<tensorflow.python.keras.callbacks.History at 0x7fe1a2bcf040>"
      ]
     },
     "execution_count": 20,
     "metadata": {},
     "output_type": "execute_result"
    }
   ],
   "source": [
    "u_model.fit(X_train, Y_train, batch_size=1, epochs=15, validation_split=0.25, shuffle=True)"
   ]
  },
  {
   "cell_type": "markdown",
   "metadata": {},
   "source": [
    "Seems like it's still got a bit to go before the minima--I tested it and found that it levels off around 100 total epochs (75 more)."
   ]
  },
  {
   "cell_type": "code",
   "execution_count": 21,
   "metadata": {},
   "outputs": [
    {
     "name": "stdout",
     "output_type": "stream",
     "text": [
      "Epoch 1/75\n",
      "3965/3965 [==============================] - 5s 1ms/step - loss: 0.1002 - val_loss: 0.1013s - los\n",
      "Epoch 2/75\n",
      "3965/3965 [==============================] - 7s 2ms/step - loss: 0.0983 - val_loss: 0.1068\n",
      "Epoch 3/75\n",
      "3965/3965 [==============================] - 6s 1ms/step - loss: 0.0982 - val_loss: 0.0951\n",
      "Epoch 4/75\n",
      "3965/3965 [==============================] - 5s 1ms/step - loss: 0.0967 - val_loss: 0.0951\n",
      "Epoch 5/75\n",
      "3965/3965 [==============================] - 5s 1ms/step - loss: 0.0958 - val_loss: 0.0926\n",
      "Epoch 6/75\n",
      "3965/3965 [==============================] - 6s 1ms/step - loss: 0.0957 - val_loss: 0.0885\n",
      "Epoch 7/75\n",
      "3965/3965 [==============================] - 6s 2ms/step - loss: 0.0940 - val_loss: 0.1100\n",
      "Epoch 8/75\n",
      "3965/3965 [==============================] - 6s 2ms/step - loss: 0.0930 - val_loss: 0.0868\n",
      "Epoch 9/75\n",
      "3965/3965 [==============================] - 6s 2ms/step - loss: 0.0920 - val_loss: 0.1209\n",
      "Epoch 10/75\n",
      "3965/3965 [==============================] - 5s 1ms/step - loss: 0.0902 - val_loss: 0.0952\n",
      "Epoch 11/75\n",
      "3965/3965 [==============================] - 5s 1ms/step - loss: 0.0903 - val_loss: 0.0986\n",
      "Epoch 12/75\n",
      "3965/3965 [==============================] - 5s 1ms/step - loss: 0.0879 - val_loss: 0.0886\n",
      "Epoch 13/75\n",
      "3965/3965 [==============================] - 5s 1ms/step - loss: 0.0885 - val_loss: 0.0882\n",
      "Epoch 14/75\n",
      "3965/3965 [==============================] - 5s 1ms/step - loss: 0.0864 - val_loss: 0.0970\n",
      "Epoch 15/75\n",
      "3965/3965 [==============================] - 5s 1ms/step - loss: 0.0852 - val_loss: 0.0840\n",
      "Epoch 16/75\n",
      "3965/3965 [==============================] - 5s 1ms/step - loss: 0.0838 - val_loss: 0.0815\n",
      "Epoch 17/75\n",
      "3965/3965 [==============================] - 5s 1ms/step - loss: 0.0833 - val_loss: 0.0803\n",
      "Epoch 18/75\n",
      "3965/3965 [==============================] - 5s 1ms/step - loss: 0.0821 - val_loss: 0.0795\n",
      "Epoch 19/75\n",
      "3965/3965 [==============================] - 5s 1ms/step - loss: 0.0812 - val_loss: 0.0911\n",
      "Epoch 20/75\n",
      "3965/3965 [==============================] - 6s 2ms/step - loss: 0.0793 - val_loss: 0.0863\n",
      "Epoch 21/75\n",
      "3965/3965 [==============================] - 5s 1ms/step - loss: 0.0795 - val_loss: 0.0747\n",
      "Epoch 22/75\n",
      "3965/3965 [==============================] - 5s 1ms/step - loss: 0.0790 - val_loss: 0.0885\n",
      "Epoch 23/75\n",
      "3965/3965 [==============================] - 5s 1ms/step - loss: 0.0791 - val_loss: 0.0757\n",
      "Epoch 24/75\n",
      "3965/3965 [==============================] - 5s 1ms/step - loss: 0.0788 - val_loss: 0.0786\n",
      "Epoch 25/75\n",
      "3965/3965 [==============================] - 5s 1ms/step - loss: 0.0774 - val_loss: 0.0842\n",
      "Epoch 26/75\n",
      "3965/3965 [==============================] - 4s 1ms/step - loss: 0.0760 - val_loss: 0.0883\n",
      "Epoch 27/75\n",
      "3965/3965 [==============================] - 5s 1ms/step - loss: 0.0759 - val_loss: 0.0796\n",
      "Epoch 28/75\n",
      "3965/3965 [==============================] - 4s 1ms/step - loss: 0.0761 - val_loss: 0.0801\n",
      "Epoch 29/75\n",
      "3965/3965 [==============================] - 5s 1ms/step - loss: 0.0753 - val_loss: 0.0726\n",
      "Epoch 30/75\n",
      "3965/3965 [==============================] - 5s 1ms/step - loss: 0.0737 - val_loss: 0.0792\n",
      "Epoch 31/75\n",
      "3965/3965 [==============================] - 4s 1ms/step - loss: 0.0735 - val_loss: 0.0831\n",
      "Epoch 32/75\n",
      "3965/3965 [==============================] - 4s 1ms/step - loss: 0.0729 - val_loss: 0.0756\n",
      "Epoch 33/75\n",
      "3965/3965 [==============================] - 5s 1ms/step - loss: 0.0735 - val_loss: 0.0697\n",
      "Epoch 34/75\n",
      "3965/3965 [==============================] - 5s 1ms/step - loss: 0.0721 - val_loss: 0.0723\n",
      "Epoch 35/75\n",
      "3965/3965 [==============================] - 4s 1ms/step - loss: 0.0715 - val_loss: 0.0752\n",
      "Epoch 36/75\n",
      "3965/3965 [==============================] - 4s 1ms/step - loss: 0.0715 - val_loss: 0.0716\n",
      "Epoch 37/75\n",
      "3965/3965 [==============================] - 6s 2ms/step - loss: 0.0718 - val_loss: 0.0728\n",
      "Epoch 38/75\n",
      "3965/3965 [==============================] - 5s 1ms/step - loss: 0.0712 - val_loss: 0.0723\n",
      "Epoch 39/75\n",
      "3965/3965 [==============================] - 5s 1ms/step - loss: 0.0704 - val_loss: 0.0705\n",
      "Epoch 40/75\n",
      "3965/3965 [==============================] - 6s 1ms/step - loss: 0.0707 - val_loss: 0.0721\n",
      "Epoch 41/75\n",
      "3965/3965 [==============================] - 5s 1ms/step - loss: 0.0705 - val_loss: 0.0762\n",
      "Epoch 42/75\n",
      "3965/3965 [==============================] - 5s 1ms/step - loss: 0.0698 - val_loss: 0.0747\n",
      "Epoch 43/75\n",
      "3965/3965 [==============================] - 5s 1ms/step - loss: 0.0687 - val_loss: 0.0746\n",
      "Epoch 44/75\n",
      "3965/3965 [==============================] - 5s 1ms/step - loss: 0.0677 - val_loss: 0.0685\n",
      "Epoch 45/75\n",
      "3965/3965 [==============================] - 5s 1ms/step - loss: 0.0686 - val_loss: 0.0826\n",
      "Epoch 46/75\n",
      "3965/3965 [==============================] - 5s 1ms/step - loss: 0.0682 - val_loss: 0.0757\n",
      "Epoch 47/75\n",
      "3965/3965 [==============================] - 5s 1ms/step - loss: 0.0668 - val_loss: 0.0704\n",
      "Epoch 48/75\n",
      "3965/3965 [==============================] - 5s 1ms/step - loss: 0.0673 - val_loss: 0.0674\n",
      "Epoch 49/75\n",
      "3965/3965 [==============================] - 5s 1ms/step - loss: 0.0666 - val_loss: 0.0681\n",
      "Epoch 50/75\n",
      "3965/3965 [==============================] - 5s 1ms/step - loss: 0.0677 - val_loss: 0.0655\n",
      "Epoch 51/75\n",
      "3965/3965 [==============================] - 5s 1ms/step - loss: 0.0656 - val_loss: 0.0682\n",
      "Epoch 52/75\n",
      "3965/3965 [==============================] - 5s 1ms/step - loss: 0.0661 - val_loss: 0.0664\n",
      "Epoch 53/75\n",
      "3965/3965 [==============================] - 5s 1ms/step - loss: 0.0659 - val_loss: 0.0651\n",
      "Epoch 54/75\n",
      "3965/3965 [==============================] - 5s 1ms/step - loss: 0.0649 - val_loss: 0.0652\n",
      "Epoch 55/75\n",
      "3965/3965 [==============================] - 5s 1ms/step - loss: 0.0651 - val_loss: 0.0690\n",
      "Epoch 56/75\n",
      "3965/3965 [==============================] - 6s 2ms/step - loss: 0.0654 - val_loss: 0.0696\n",
      "Epoch 57/75\n",
      "3965/3965 [==============================] - 5s 1ms/step - loss: 0.0653 - val_loss: 0.0672\n",
      "Epoch 58/75\n",
      "3965/3965 [==============================] - 5s 1ms/step - loss: 0.0629 - val_loss: 0.0663\n",
      "Epoch 59/75\n",
      "3965/3965 [==============================] - 4s 1ms/step - loss: 0.0638 - val_loss: 0.0804\n",
      "Epoch 60/75\n",
      "3965/3965 [==============================] - 5s 1ms/step - loss: 0.0651 - val_loss: 0.0700\n",
      "Epoch 61/75\n",
      "3965/3965 [==============================] - 4s 1ms/step - loss: 0.0637 - val_loss: 0.0710\n",
      "Epoch 62/75\n",
      "3965/3965 [==============================] - 5s 1ms/step - loss: 0.0634 - val_loss: 0.0699\n",
      "Epoch 63/75\n",
      "3965/3965 [==============================] - 5s 1ms/step - loss: 0.0633 - val_loss: 0.0687\n",
      "Epoch 64/75\n",
      "3965/3965 [==============================] - 5s 1ms/step - loss: 0.0620 - val_loss: 0.0669\n",
      "Epoch 65/75\n",
      "3965/3965 [==============================] - 4s 1ms/step - loss: 0.0619 - val_loss: 0.0700\n",
      "Epoch 66/75\n",
      "3965/3965 [==============================] - 4s 1ms/step - loss: 0.0627 - val_loss: 0.0658\n",
      "Epoch 67/75\n",
      "3965/3965 [==============================] - 5s 1ms/step - loss: 0.0607 - val_loss: 0.0662\n",
      "Epoch 68/75\n",
      "3965/3965 [==============================] - 5s 1ms/step - loss: 0.0620 - val_loss: 0.0738\n",
      "Epoch 69/75\n",
      "3965/3965 [==============================] - 5s 1ms/step - loss: 0.0596 - val_loss: 0.0710\n",
      "Epoch 70/75\n",
      "3965/3965 [==============================] - 5s 1ms/step - loss: 0.0610 - val_loss: 0.0691\n",
      "Epoch 71/75\n",
      "3965/3965 [==============================] - 5s 1ms/step - loss: 0.0611 - val_loss: 0.1136\n",
      "Epoch 72/75\n",
      "3965/3965 [==============================] - 5s 1ms/step - loss: 0.0618 - val_loss: 0.0657\n",
      "Epoch 73/75\n",
      "3965/3965 [==============================] - 5s 1ms/step - loss: 0.0603 - val_loss: 0.0636\n",
      "Epoch 74/75\n",
      "3965/3965 [==============================] - 5s 1ms/step - loss: 0.0596 - val_loss: 0.0648\n",
      "Epoch 75/75\n",
      "3965/3965 [==============================] - 5s 1ms/step - loss: 0.0604 - val_loss: 0.0712\n"
     ]
    },
    {
     "data": {
      "text/plain": [
       "<tensorflow.python.keras.callbacks.History at 0x7fe1a2c1ca30>"
      ]
     },
     "execution_count": 21,
     "metadata": {},
     "output_type": "execute_result"
    }
   ],
   "source": [
    "u_model.fit(X_train, Y_train, batch_size=1, epochs=75, validation_split=0.25, shuffle=True)"
   ]
  },
  {
   "cell_type": "markdown",
   "metadata": {},
   "source": [
    "Keep fitting at 5 epochs until you see loss and val_loss level out and stop decreasing."
   ]
  },
  {
   "cell_type": "code",
   "execution_count": 25,
   "metadata": {},
   "outputs": [
    {
     "data": {
      "image/png": "[encoded data removed]",
      "text/plain": [
       "<Figure size 432x288 with 1 Axes>"
      ]
     },
     "metadata": {
      "needs_background": "light"
     },
     "output_type": "display_data"
    },
    {
     "data": {
      "image/png": "[encoded data removed]",
      "text/plain": [
       "<Figure size 432x288 with 1 Axes>"
      ]
     },
     "metadata": {
      "needs_background": "light"
     },
     "output_type": "display_data"
    }
   ],
   "source": [
    "Y_hat = u_model.predict(X_test)\n",
    "error = np.abs((Y_hat - Y_test) / Y_test)\n",
    "plt.show(plt.plot(error[:, 0][error[:, 0] > 3]))\n",
    "plt.show(plt.plot(error[:, 1][error[:, 1] > 5]))"
   ]
  },
  {
   "cell_type": "markdown",
   "metadata": {},
   "source": [
    "There seem to be some certain samples that have high error rates. The overall loss is, however, low."
   ]
  },
  {
   "cell_type": "code",
   "execution_count": 26,
   "metadata": {},
   "outputs": [],
   "source": [
    "from xgboost import Booster\n",
    "\n",
    "model._Booster.save_model('model.bin')\n",
    "\n",
    "def load_xgb_model():\n",
    "    _m = XGBClassifier()\n",
    "    _b = Booster()\n",
    "    _b.load_model('model.bin')\n",
    "    _m._Booster = _b\n",
    "    return _m\n",
    "\n",
    "model = load_xgb_model()"
   ]
  },
  {
   "cell_type": "code",
   "execution_count": 27,
   "metadata": {},
   "outputs": [
    {
     "name": "stdout",
     "output_type": "stream",
     "text": [
      "INFO:tensorflow:Assets written to: u_model.hd5/assets\n"
     ]
    }
   ],
   "source": [
    "from keras.models import load_model\n",
    "\n",
    "u_model.save('u_model.hd5')\n",
    "u_model = load_model('u_model.hd5')"
   ]
  },
  {
   "cell_type": "code",
   "execution_count": null,
   "metadata": {},
   "outputs": [],
   "source": []
  }
 ],
 "metadata": {
  "kernelspec": {
   "display_name": "Python 3",
   "language": "python",
   "name": "python3"
  },
  "language_info": {
   "codemirror_mode": {
    "name": "ipython",
    "version": 3
   },
   "file_extension": ".py",
   "mimetype": "text/x-python",
   "name": "python",
   "nbconvert_exporter": "python",
   "pygments_lexer": "ipython3",
   "version": "3.8.3"
  }
 },
 "nbformat": 4,
 "nbformat_minor": 4
}
